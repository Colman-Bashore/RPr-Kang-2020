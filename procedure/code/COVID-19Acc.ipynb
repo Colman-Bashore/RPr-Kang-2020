{
 "cells": [
  {
   "cell_type": "markdown",
   "metadata": {},
   "source": [
    "Title: RP- Spatial Accessibility of COVID-19 Healthcare Resources in Illinois\n",
    "---\n",
    "\n",
    "**Reproduction of**: Rapidly measuring spatial accessibility of COVID-19 healthcare resources: a case study of Illinois, USA\n",
    "\n",
    "Original study *by* Kang, J. Y., A. Michels, F. Lyu, Shaohua Wang, N. Agbodo, V. L. Freeman, and Shaowen Wang. 2020. Rapidly measuring spatial accessibility of COVID-19 healthcare resources: a case study of Illinois, USA. International Journal of Health Geographics 19 (1):1–17. DOI:[10.1186/s12942-020-00229-x](https://ij-healthgeographics.biomedcentral.com/articles/10.1186/s12942-020-00229-x).\n",
    "\n",
    "Reproduction Authors: Joe Holler, Kufre Udoh, Derrick Burt, Drew An-Pham, & Spring '21 Middlebury Geog 0323.\n",
    "\n",
    "Reproduction Materials Available at: [RP-Kang Repository](https://github.com/derrickburt/RP-Kang-Improvements)\n",
    "\n",
    "Created: `1 Jun 2021`\n",
    "Revised: `25 Jun 2021`"
   ]
  },
  {
   "cell_type": "markdown",
   "metadata": {},
   "source": [
    "### Original Data\n",
    "To perform the ESFCA method, three types of data are required, as follows: (1) road network, (2) population, and (3) hospital information. The road network can be obtained from the [OpenStreetMap Python Library, called OSMNX](https://github.com/gboeing/osmnx). The population data is available on the [American Community Survey](https://data.census.gov/cedsci/deeplinks?url=https%3A%2F%2Ffactfinder.census.gov%2F&tid=GOVSTIMESERIES.CG00ORG01). Lastly, hosptial information is also publically available on the [Homelanad Infrastructure Foundation-Level Data](https://hifld-geoplatform.opendata.arcgis.com/datasets/hospitals?geometry=-94.504%2C40.632%2C-80.980%2C43.486)."
   ]
  },
  {
   "cell_type": "markdown",
   "metadata": {},
   "source": [
    "### Reproduction Intro\n",
    "\n",
    "to be written."
   ]
  },
  {
   "cell_type": "markdown",
   "metadata": {},
   "source": [
    "### Materials  and Methods\n",
    "to be written."
   ]
  },
  {
   "cell_type": "markdown",
   "metadata": {},
   "source": [
    "### Deviatons from & Improvements to the Original Code\n",
    "\n",
    "to be written"
   ]
  },
  {
   "cell_type": "markdown",
   "metadata": {},
   "source": [
    "### Modules\n",
    "Import necessary libraries to run this model.\n",
    "See `requirements.txt` for the library versions used for this analysis."
   ]
  },
  {
   "cell_type": "code",
   "execution_count": null,
   "metadata": {},
   "outputs": [],
   "source": [
    "import pandas as pd\n",
    "import numpy as np\n",
    "import geopandas as gpd\n",
    "import networkx as nx\n",
    "import osmnx as ox\n",
    "from shapely.geometry import Point, LineString, Polygon\n",
    "import matplotlib.pyplot as plt\n",
    "from tqdm import tqdm\n",
    "import multiprocessing as mp\n",
    "import folium, itertools, os, time, warnings\n",
    "from IPython.display import display, clear_output\n",
    "\n",
    "warnings.filterwarnings(\"ignore\")"
   ]
  },
  {
   "cell_type": "markdown",
   "metadata": {},
   "source": [
    "### Check Directories\n",
    "\n",
    "Because we have restructured the repository for replication, we need to check our working directory and make necessary adjustments."
   ]
  },
  {
   "cell_type": "code",
   "execution_count": null,
   "metadata": {},
   "outputs": [],
   "source": [
    "os.getcwd()"
   ]
  },
  {
   "cell_type": "code",
   "execution_count": null,
   "metadata": {},
   "outputs": [],
   "source": [
    "## Use to set work directory properly\n",
    "if os.getcwd() == '/home/jovyan/work/RP-Kang2020/procedure/code':\n",
    "    os.chdir('../../')\n",
    "if os.getcwd() == '/home/jovyan/work/RP-Kang2020/':\n",
    "    None \n",
    "\n",
    "os.getcwd()"
   ]
  },
  {
   "cell_type": "markdown",
   "metadata": {},
   "source": [
    "## Load and Visualize Data\n",
    "\n",
    "### Population and COVID-19 Cases Data by County\n",
    "\n",
    "*'Cases' column is coming in as 'Unnamed_0' --> easy to rename but this probably should be reportede to the original authors*"
   ]
  },
  {
   "cell_type": "code",
   "execution_count": null,
   "metadata": {},
   "outputs": [],
   "source": [
    "%ls home/joyvan/RP-Kang/"
   ]
  },
  {
   "cell_type": "code",
   "execution_count": null,
   "metadata": {},
   "outputs": [],
   "source": [
    "overfifty_data = gpd.read_file('./data/raw/public/PopData/Chicago_Tract.shp')\n",
    "overfifty_data.head()"
   ]
  },
  {
   "cell_type": "code",
   "execution_count": null,
   "metadata": {},
   "outputs": [],
   "source": [
    "covid_data = gpd.read_file('./data/raw/public/PopData/Chicago_ZIPCODE.shp')\n",
    "covid_data['cases'] = covid_data['cases']\n",
    "covid_data.head()"
   ]
  },
  {
   "cell_type": "markdown",
   "metadata": {},
   "source": [
    "### Automate/Pre-Process Census Data  with API\n",
    "\n",
    "*Note* you will need to download a new module called 'censusdata'\n",
    "\n",
    "To do this, open a terminal in the cybergisx environment and type:\n",
    "\n",
    "```pip install censusdata```"
   ]
  },
  {
   "cell_type": "code",
   "execution_count": null,
   "metadata": {},
   "outputs": [],
   "source": [
    "# load module\n",
    "import censusdata as cd"
   ]
  },
  {
   "cell_type": "code",
   "execution_count": null,
   "metadata": {},
   "outputs": [],
   "source": [
    "%time\n",
    "\n",
    "# read in chicago tracts using census API\n",
    "pop_api = cd.download('acs5', 2018,\n",
    "                             cd.censusgeo([('state', '17'), ('county', '031'), ('tract', '*')]),\n",
    "                             ['B01001_001E', 'B01001_016E', 'B01001_017E', 'B01001_018E', 'B01001_019E', \n",
    "                              'B01001_020E', 'B01001_021E', 'B01001_022E', 'B01001_023E', 'B01001_024E', \n",
    "                              'B01001_025E', 'B01001_040E', 'B01001_041E', 'B01001_042E', 'B01001_043E', \n",
    "                              'B01001_044E', 'B01001_045E', 'B01001_046E', 'B01001_047E', 'B01001_048E',\n",
    "                              'B01001_049E'])\n",
    "\n",
    "# check\n",
    "# pop_api.head()"
   ]
  },
  {
   "cell_type": "code",
   "execution_count": null,
   "metadata": {},
   "outputs": [],
   "source": [
    "## Reformat and Rename columns\n",
    "# Sum + Rename 50+ population\n",
    "pop_api['overFifty'] = pop_api.iloc[:, 1:21].sum(axis=1)\n",
    "\n",
    "# Rename Total \n",
    "pop_api['totalPop'] = pop_api['B01001_001E']\n",
    "\n",
    "# Drop irrelevant columns\n",
    "pop_api = pop_api.drop(pop_api.columns[0:21], axis=1)\n",
    "\n",
    "# Check\n",
    "# pop_api.head()"
   ]
  },
  {
   "cell_type": "code",
   "execution_count": null,
   "metadata": {},
   "outputs": [],
   "source": [
    "# ADD CODE TO SAFE INTO RAW DATA FOLDER\n",
    "# Create column from index tract # -- we will need thee tract ID for a join\n",
    "pop_api['TRACT_ID'] = pop_api.index\n",
    "\n",
    "# Convert to string \n",
    "pop_api['TRACT_ID'] = pop_api['TRACT_ID'].astype(str)\n",
    "\n",
    "# Slice last 6 digits (tract id)\n",
    "pop_api['TRACT_ID'] = pop_api['TRACT_ID'].str.slice(-6)\n",
    "\n",
    "# Check\n",
    "pop_api.head()"
   ]
  },
  {
   "cell_type": "code",
   "execution_count": null,
   "metadata": {},
   "outputs": [],
   "source": [
    "### Problem:\n",
    "len(pop_data) == len(pop_api)"
   ]
  },
  {
   "cell_type": "markdown",
   "metadata": {},
   "source": [
    "### Automate/Pre-Process COVID-19 with Requests\n",
    "\n",
    "Download covid data that will be reaggregated and joined to census tract level geography???"
   ]
  },
  {
   "cell_type": "code",
   "execution_count": null,
   "metadata": {},
   "outputs": [],
   "source": [
    "import requests\n",
    "import geojson\n",
    "import json"
   ]
  },
  {
   "cell_type": "code",
   "execution_count": null,
   "metadata": {},
   "outputs": [],
   "source": [
    "# set file path\n",
    "fp_covid = 'https://idph.illinois.gov/DPHPublicInformation/api/COVIDExport/GetZip'\n",
    "\n",
    "# make reqeuest\n",
    "r_covid = requests.get(fp_covid)\n",
    "\n",
    "# save request as dataframe\n",
    "covid = pd.DataFrame.from_dict(json.loads(r_covid.content))"
   ]
  },
  {
   "cell_type": "markdown",
   "metadata": {},
   "source": [
    "### Automate/Pre-Process Census Boundary Shapefiles with FTP Site\n",
    "\n",
    "Census TIGER/Linee shapefiles can bee accessed from ftp://ftp2.census.gov/geo/tiger/ using !wget\n",
    "\n",
    "File path for Cook County 2010 tracts: ftp://ftp2.census.gov/geo/tiger//TIGER2010/TRACT/2010/tl_2010_17031_tract10.zip\n",
    "\n",
    "File path for Illinois 2010 tracts: ftp://ftp2.census.gov/geo/tiger//TIGER2018/TRACT/tl_2018_17_tract.zip"
   ]
  },
  {
   "cell_type": "code",
   "execution_count": null,
   "metadata": {},
   "outputs": [],
   "source": [
    "# check directory -- we want to downlaod the raw tract data directly into our data folder\n",
    "%ls"
   ]
  },
  {
   "cell_type": "code",
   "execution_count": null,
   "metadata": {},
   "outputs": [],
   "source": [
    "# push the working directory one folder further\n",
    "%ls ../"
   ]
  },
  {
   "cell_type": "code",
   "execution_count": null,
   "metadata": {},
   "outputs": [],
   "source": [
    "# Download census tract shapefiles to ~/data/ for Cook County Chicago 2010 (17031)\n",
    "!wget -P data/ ftp://ftp2.census.gov/geo/tiger//TIGER2010/TRACT/2010/tl_2010_17031_tract10.zip"
   ]
  },
  {
   "cell_type": "code",
   "execution_count": null,
   "metadata": {},
   "outputs": [],
   "source": [
    "# Extract shapefiles\n",
    "!unzip -d data/ data/tl_2010_17031_tract10.zip"
   ]
  },
  {
   "cell_type": "code",
   "execution_count": null,
   "metadata": {},
   "outputs": [],
   "source": [
    "!unzip -help"
   ]
  },
  {
   "cell_type": "code",
   "execution_count": null,
   "metadata": {},
   "outputs": [],
   "source": [
    "# read census tracts\n",
    "tracts_shp = gpd.read_file('tl_2010_17031_tract10.shp')\n",
    "\n",
    "# reproject crs\n",
    "tracts_shp = tracts_shp.to_crs(epsg=26971)\n",
    "\n",
    "# check crs\n",
    "print(tracts_shp.crs)\n",
    "\n",
    "# plot\n",
    "tracts_shp.plot()"
   ]
  },
  {
   "cell_type": "code",
   "execution_count": null,
   "metadata": {},
   "outputs": [],
   "source": [
    "pop_data.plot()"
   ]
  },
  {
   "cell_type": "markdown",
   "metadata": {},
   "source": [
    "### Join Population and COVID Data to Tract Shapefiles and Save To Data Folder"
   ]
  },
  {
   "cell_type": "code",
   "execution_count": null,
   "metadata": {},
   "outputs": [],
   "source": []
  },
  {
   "cell_type": "markdown",
   "metadata": {},
   "source": [
    "### Hospital Data\n",
    "\n",
    "Note that 999 is treated as a \"NULL\"/\"NA\" so these hospitals are filtered out. This data contains the number of ICU beds and ventilators at each hospital."
   ]
  },
  {
   "cell_type": "code",
   "execution_count": null,
   "metadata": {},
   "outputs": [],
   "source": [
    "hospitals = gpd.read_file('./data/raw/public/HospitalData/Chicago_Hospital_Info.shp')\n",
    "hospitals.head()"
   ]
  },
  {
   "cell_type": "markdown",
   "metadata": {},
   "source": [
    "### Automate/Pre-Process Hospital with Requests -- Still Drafting this\n",
    "\n",
    "documentation for requests: https://docs.python-requests.org/en/master/"
   ]
  },
  {
   "cell_type": "code",
   "execution_count": null,
   "metadata": {},
   "outputs": [],
   "source": [
    "# ADD CODE TO SAFE INTO RAW DATA FOLDER\n",
    "# set file paths for general care and icu beds\n",
    "fp_gen = 'https://opendata.arcgis.com/datasets/6ac5e325468c4cb9b905f1728d6fbf0f_0.geojson'\n",
    "fp_icu = 'https://healthdata.gov/resource/uqq2-txqb.json'\n",
    "\n",
    "# requests for general care and icu beds\n",
    "r_gen = requests.get(fp_gen)\n",
    "r_icu = requests.get(fp_icu)\n",
    "\n",
    "# get hospitals \n",
    "hospitals_gen = gpd.GeoDataFrame.from_features(geojson.loads(r_gen.content),  crs=\"EPSG:26971\")\n",
    "hospitals_icu = pd.DataFrame.from_dict(json.loads(r_icu.content))\n",
    "\n",
    "# filter for icu and general care\n",
    "hospitals_gen = hospitals_gen.loc[(hospitals_gen['STATE'] == 'IL') & (hospitals_gen['TYPE'] == 'GENERAL ACUTE CARE')]\n",
    "# ERROR Here: it is only taking the first thousand\n",
    "hospitals_icu = hospitals_icu[['hospital_pk', 'collection_week', 'state', 'city', 'ccn', 'hospital_name', 'zip', 'ccn', 'address', 'total_icu_beds_7_day_avg']]\n",
    "\n",
    "# capitalize join column \n",
    "hospitals_icu.rename(columns={'address':'ADDRESS'}, inplace=True)\n",
    "\n",
    "# join\n",
    "hospitals_api = hospitals_gen.merge(hospitals_icu, on='ADDRESS')\n",
    "\n",
    "# check \n",
    "hospitals_icu['city'].unique()"
   ]
  },
  {
   "cell_type": "markdown",
   "metadata": {},
   "source": [
    "### Generate and Plot Map of Hospitals"
   ]
  },
  {
   "cell_type": "code",
   "execution_count": null,
   "metadata": {},
   "outputs": [],
   "source": [
    "m = folium.Map(location=[41.85, -87.65], tiles='cartodbpositron', zoom_start=10)\n",
    "for i in range(0, len(hospitals)):\n",
    "    folium.CircleMarker(\n",
    "      location=[hospitals.iloc[i]['Y'], hospitals.iloc[i]['X']],\n",
    "      popup=\"{}{}\\n{}{}\\n{}{}\".format('Hospital Name: ',hospitals.iloc[i]['Hospital'],\n",
    "                                      'ICU Beds: ',hospitals.iloc[i]['Adult ICU'],\n",
    "                                      'Ventilators: ', hospitals.iloc[i]['Total Vent']),\n",
    "      radius=5,\n",
    "      color='grey',\n",
    "      fill=True,\n",
    "      fill_opacity=0.6,\n",
    "      legend_name = 'Hospitals'\n",
    "    ).add_to(m)\n",
    "legend_html =   '''<div style=\"position: fixed; width: 20%; heigh: auto;\n",
    "                            bottom: 10px; left: 10px;\n",
    "                            solid grey; z-index:9999; font-size:14px;\n",
    "                            \">&nbsp; Legend<br>'''\n",
    "\n",
    "m"
   ]
  },
  {
   "cell_type": "markdown",
   "metadata": {},
   "source": [
    "### Load and Plot Hexagon Grids (500-meter resolution)"
   ]
  },
  {
   "cell_type": "code",
   "execution_count": null,
   "metadata": {},
   "outputs": [],
   "source": [
    "grid_file = gpd.read_file('./data/raw/public/GridFile/Chicago_Grid.shp')\n",
    "grid_file.plot(figsize=(8,8))"
   ]
  },
  {
   "cell_type": "markdown",
   "metadata": {},
   "source": [
    "### Load and Plot the Street Network"
   ]
  },
  {
   "cell_type": "code",
   "execution_count": null,
   "metadata": {},
   "outputs": [],
   "source": [
    "%%time\n",
    "if not os.path.exists(\"data/raw/private/Chicago_Network_Buffer.graphml\"):\n",
    "    G = ox.graph_from_place('Chicago', network_type='drive', buffer_dist = 24140.2) # pulling the drive network the first time will take a while\n",
    "    ox.save_graphml(G, 'raw/private/Chicago_Network_Buffer.graphml')\n",
    "else:\n",
    "    G = ox.load_graphml('raw/private/Chicago_Network_Buffer.graphml', node_type=str)\n",
    "ox.plot_graph(G)"
   ]
  },
  {
   "cell_type": "markdown",
   "metadata": {},
   "source": [
    "#### Check OSM edge (road) counts by speed limit\n",
    "\n",
    "we will compare this to our cleaned network later"
   ]
  },
  {
   "cell_type": "code",
   "execution_count": null,
   "metadata": {},
   "outputs": [],
   "source": [
    "## Get unique counts for each road network\n",
    "# turn nodes and edges in geodataframes\n",
    "nodes, edges = ox.graph_to_gdfs(G, nodes=True, edges=True)\n",
    "\n",
    "# count\n",
    "print(edges['maxspeed'].value_counts())"
   ]
  },
  {
   "cell_type": "markdown",
   "metadata": {},
   "source": [
    "## \"Helper\" Functions\n",
    "\n",
    "The functions below are needed for our analysis later, let's take a look!\n",
    "\n",
    "### network_setting\n",
    "\n",
    "Cleans the OSMNX network to work better with drive-time analysis.\n",
    "\n",
    "First, we remove all nodes with 0 outdegree because any hospital assigned to such a node would be unreachable from everywhere. Next, we remove small (under 10 node) *strongly connected components* to reduce erroneously small ego-centric networks. Lastly, we ensure that the max speed is set and in the correct units before calculating time.\n",
    "\n",
    "Args:\n",
    "\n",
    "* network: OSMNX network for the spatial extent of interest\n",
    "\n",
    "Returns:\n",
    "\n",
    "* OSMNX network: cleaned OSMNX network for the spatial extent"
   ]
  },
  {
   "cell_type": "code",
   "execution_count": null,
   "metadata": {},
   "outputs": [],
   "source": [
    "def network_setting(network):\n",
    "    _nodes_removed = len([n for (n, deg) in network.out_degree() if deg ==0])\n",
    "    network.remove_nodes_from([n for (n, deg) in network.out_degree() if deg ==0])\n",
    "    for component in list(nx.strongly_connected_components(network)):\n",
    "        if len(component)<10:\n",
    "            for node in component:\n",
    "                _nodes_removed+=1\n",
    "                network.remove_node(node)\n",
    "    for u, v, k, data in tqdm(G.edges(data=True, keys=True),position=0):\n",
    "        if 'maxspeed' in data.keys():\n",
    "            speed_type = type(data['maxspeed'])\n",
    "            if (speed_type==str):\n",
    "                # add in try/except blocks to catch maxspeed formats that don't fit Kang et al's cases\n",
    "                try:\n",
    "                    if len(data['maxspeed'].split(','))==2:\n",
    "                        data['maxspeed']=float(data['maxspeed'].split(',')[0])                  \n",
    "                    elif data['maxspeed']=='signals':\n",
    "                        data['maxspeed']=35.0 # drive speed setting as 35 miles\n",
    "                    else:\n",
    "                        data['maxspeed']=float(data['maxspeed'].split()[0])\n",
    "                except:\n",
    "                    data['maxspeed']= 35.0 #miles\n",
    "            else:\n",
    "                try:\n",
    "                    data['maxspeed']=float(data['maxspeed'][0].split()[0])\n",
    "                except:\n",
    "                    data['maxspeed']= 35.0 #miles\n",
    "        else:\n",
    "            data['maxspeed']= 35.0 #miles\n",
    "        data['maxspeed_meters'] = data['maxspeed']*26.8223 # convert mile to meter\n",
    "        data['time'] = float(data['length'])/ data['maxspeed_meters']\n",
    "    print(\"Removed {} nodes ({:2.4f}%) from the OSMNX network\".format(_nodes_removed, _nodes_removed/float(network.number_of_nodes())))\n",
    "    print(\"Number of nodes: {}\".format(network.number_of_nodes()))\n",
    "    print(\"Number of edges: {}\".format(network.number_of_edges()))    \n",
    "    return(network)"
   ]
  },
  {
   "cell_type": "code",
   "execution_count": null,
   "metadata": {},
   "outputs": [],
   "source": [
    "def network_setting(network):\n",
    "    _nodes_removed = len([n for (n, deg) in network.out_degree() if deg ==0])\n",
    "    network.remove_nodes_from([n for (n, deg) in network.out_degree() if deg ==0])\n",
    "    for component in list(nx.strongly_connected_components(network)):\n",
    "        if len(component)<10:\n",
    "            for node in component:\n",
    "                _nodes_removed+=1\n",
    "                network.remove_node(node)\n",
    "    for u, v, k, data in tqdm(G.edges(data=True, keys=True),position=0):\n",
    "        if 'maxspeed' in data.keys():\n",
    "            speed_type = type(data['maxspeed'])\n",
    "            if (speed_type==str):\n",
    "                ## Improvement  for catching brackets, \n",
    "                ## https://stackoverflow.com/questions/4289331/how-to-extract-numbers-from-a-string-in-python\n",
    "                ## Improvement for sppede limit default,\n",
    "                ## 30 mph for Chicago as an average instead of 35\n",
    "                # add in try/except blocks to catch maxspeed formats that don't fit Kang et al's cases\n",
    "                try:\n",
    "                    if len(data['maxspeed'].split(','))==2:\n",
    "                        # if there is just one comma\n",
    "                        ## splits again, takes first valuee to left of comma sets to float\n",
    "                        data['maxspeed_fix']=float(data['maxspeed'].split(',')[0])                  \n",
    "                    elif data['maxspeed']=='signals':\n",
    "                        # doesn't seem to be happening in chicago???\n",
    "                        data['maxspeed_fix']=35.0 # drive speed setting as 35 miles\n",
    "                    else:\n",
    "                        # no commas or two +\n",
    "                        ## split white space and convert the leftside to a floating point\n",
    "                        data['maxspeed_fix']=float(data['maxspeed'].split()[0])\n",
    "                        print(\"Warning: the value of\", data['maxspeed'], \"is being converted to\", data['maxspeed_fix'])\n",
    "                except:\n",
    "                    data['maxspeed_fix']= 35.0 #miles\n",
    "            else:\n",
    "                try:\n",
    "                    data['maxspeed_fix']=float(data['maxspeed'][0].split()[0])\n",
    "                except:\n",
    "                    data['maxspeed_fix']= 35.0 #miles\n",
    "        else:\n",
    "            data['maxspeed_fix']= 35.0 #miles\n",
    "        data['maxspeed_meters'] = data['maxspeed_fix']*26.8223 # convert mile to meter\n",
    "        data['time'] = float(data['length'])/ data['maxspeed_meters']\n",
    "    print(\"Removed {} nodes ({:2.4f}%) from the OSMNX network\".format(_nodes_removed, _nodes_removed/float(network.number_of_nodes())))\n",
    "    print(\"Number of nodes: {}\".format(network.number_of_nodes()))\n",
    "    print(\"Number of edges: {}\".format(network.number_of_edges()))\n",
    "    return(network)"
   ]
  },
  {
   "cell_type": "markdown",
   "metadata": {},
   "source": [
    "### hospital_setting\n",
    "\n",
    "Finds the nearest OSMNX node for each hospital.\n",
    "\n",
    "Args:\n",
    "\n",
    "* hospital: GeoDataFrame of hospitals\n",
    "* G: OSMNX network\n",
    "\n",
    "Returns:\n",
    "\n",
    "* GeoDataFrame of hospitals with info on nearest OSMNX node"
   ]
  },
  {
   "cell_type": "code",
   "execution_count": null,
   "metadata": {},
   "outputs": [],
   "source": [
    "def hospital_setting(hospitals, G):\n",
    "    hospitals['nearest_osm']=None\n",
    "    for i in tqdm(hospitals.index, desc=\"Find the nearest osm from hospitals\", position=0):\n",
    "        hospitals['nearest_osm'][i] = ox.get_nearest_node(G, [hospitals['Y'][i], hospitals['X'][i]], method='euclidean') # find the nearest node from hospital location\n",
    "    print ('hospital setting is done')\n",
    "    return(hospitals)"
   ]
  },
  {
   "cell_type": "markdown",
   "metadata": {},
   "source": [
    "### pop_centroid\n",
    "\n",
    "Converts geodata to centroids\n",
    "\n",
    "Args:\n",
    "\n",
    "* pop_data: a GeodataFrame\n",
    "* pop_type: a string, either \"pop\" for general population or \"covid\" for COVID-19 case data\n",
    "\n",
    "Returns:\n",
    "\n",
    "* GeoDataFrame of centroids with population data"
   ]
  },
  {
   "cell_type": "code",
   "execution_count": null,
   "metadata": {},
   "outputs": [],
   "source": [
    "# to estimate the centroids of census tract / county\n",
    "def pop_centroid (pop_data, pop_type):\n",
    "    pop_data = pop_data.to_crs({'init': 'epsg:4326'})\n",
    "    if pop_type ==\"pop\":\n",
    "        pop_data=pop_data[pop_data['OverFifty']>=0] \n",
    "    if pop_type ==\"covid\":\n",
    "        pop_data=pop_data[pop_data['cases']>=0]\n",
    "    pop_cent = pop_data.centroid # it make the polygon to the point without any other information\n",
    "    pop_centroid = gpd.GeoDataFrame()\n",
    "    i = 0\n",
    "    for point in tqdm(pop_cent, desc='Pop Centroid File Setting', position=0):\n",
    "        if pop_type== \"pop\":\n",
    "            pop = pop_data.iloc[i]['OverFifty']\n",
    "            code = pop_data.iloc[i]['GEOID']\n",
    "        if pop_type ==\"covid\":\n",
    "            pop = pop_data.iloc[i]['cases']\n",
    "            code = pop_data.iloc[i].ZCTA5CE10\n",
    "        pop_centroid = pop_centroid.append({'code':code,'pop': pop,'geometry': point}, ignore_index=True)\n",
    "        i = i+1\n",
    "    return(pop_centroid)"
   ]
  },
  {
   "cell_type": "markdown",
   "metadata": {},
   "source": [
    "### calculate_catchment_area\n",
    "\n",
    "Calculates a catchment area of things within some distance of a point using a given metric.\n",
    "\n",
    "Function first creates an ego-centric subgraph on the NetworkX road network starting with the nearest OSM node for the hospital and going out to a given distance as measured by the distance unit. We then calculate the convex hull around the nodes in the ego-centric subgraph and make it a GeoPandas object.\n",
    "\n",
    "Args:\n",
    "\n",
    "* G: OSMNX network\n",
    "* nearest_osm: OSMNX road network node that is closest to the place of interest (hospital)\n",
    "* distance: the max distance to include in the catchment area\n",
    "* distance_unit: how we measure distance (used by ego_graph), we always use time\n",
    "\n",
    "Returns:\n",
    "\n",
    "* GeoDataFrame the catchment area."
   ]
  },
  {
   "cell_type": "code",
   "execution_count": null,
   "metadata": {},
   "outputs": [],
   "source": [
    "def calculate_catchment_area(G, nearest_osm, distance, distance_unit = \"time\"):\n",
    "    road_network = nx.ego_graph(G, nearest_osm, distance, distance=distance_unit) \n",
    "    nodes = [Point((data['x'], data['y'])) for node, data in road_network.nodes(data=True)]\n",
    "    polygon = gpd.GeoSeries(nodes).unary_union.convex_hull ## to create convex hull\n",
    "    polygon = gpd.GeoDataFrame(gpd.GeoSeries(polygon)) ## change polygon to geopandas\n",
    "    polygon = polygon.rename(columns={0:'geometry'}).set_geometry('geometry')\n",
    "    return polygon.copy(deep=True)"
   ]
  },
  {
   "cell_type": "markdown",
   "metadata": {},
   "source": [
    "### djikstra_catchment_area\n",
    "\n",
    "Function written by Kufre Udoh. It is a more efficient way to calculate distance-weighted catchment areas for each hospital.\n",
    "\n",
    "From Kufre: First, single_source_dijkstra returns a dictionary of identifiers for the nodes that compose the shortest paths from a given node. This dictionary of node identifiers is then used in subgraph to create a view of a larger graph, in our case the road network of Illinois, rather than creating a new graph with its own attributes as is done in ego_graph.\n",
    "\n",
    "Args:\n",
    "\n",
    "* G: OSMNX network\n",
    "* nearest_osm: OSMNX road network node that is closest to the place of interest (hospital)\n",
    "* distance: the max distance to include in the catchment area\n",
    "* distance_unit: how we measure distance (used by ego_graph), we always use time\n",
    "\n",
    "Returns:\n",
    "\n",
    "* GeoDataFrame the catchment area.\n"
   ]
  },
  {
   "cell_type": "code",
   "execution_count": null,
   "metadata": {},
   "outputs": [],
   "source": [
    "def dijkstra_cca(G, nearest_osm, distance, distance_unit = \"time\"):\n",
    "    road_network = G.subgraph(nx.single_source_dijkstra_path_length(G, nearest_osm, distance, distance_unit))  \n",
    "    nodes = [Point((data['x'], data['y'])) for node, data in road_network.nodes(data=True)]\n",
    "    polygon = gpd.GeoSeries(nodes).unary_union.convex_hull ## to create convex hull\n",
    "    polygon = gpd.GeoDataFrame(gpd.GeoSeries(polygon)) ## change polygon to geopandas\n",
    "    polygon = polygon.rename(columns={0:'geometry'}).set_geometry('geometry')\n",
    "    return polygon.copy(deep=True)"
   ]
  },
  {
   "cell_type": "markdown",
   "metadata": {},
   "source": [
    "### hospital_measure_acc\n",
    "\n",
    "Measures the effect of a single hospital on the surrounding area. (Uses `calculate_catchment_area`)\n",
    "\n",
    "Args:\n",
    "\n",
    "* \\_thread\\_id: int used to keep track of which thread this is\n",
    "* hospital: Geopandas dataframe with information on a hospital\n",
    "* pop_data: Geopandas dataframe with population data\n",
    "* distances: Distances in time to calculate accessibility for\n",
    "* weights: how to weight the different travel distances\n",
    "\n",
    "Returns:\n",
    "\n",
    "* Tuple containing:\n",
    "    * Int (\\_thread\\_id)\n",
    "    * GeoDataFrame of catchment areas with key stats"
   ]
  },
  {
   "cell_type": "code",
   "execution_count": null,
   "metadata": {},
   "outputs": [],
   "source": [
    "def hospital_measure_acc (_thread_id, hospital, pop_data, distances, weights):\n",
    "    ##distance weight = 1, 0.68, 0.22\n",
    "    polygons = []\n",
    "    for distance in distances:\n",
    "        # append djikstra catchment calculation (uncomment to use)\n",
    "        polygons.append(calculate_catchment_area(G, hospital['nearest_osm'],distance))\n",
    "        # polygons.append(dijkstra_cca(G, hospital['nearest_osm'],distance))\n",
    "    for i in reversed(range(1, len(distances))):\n",
    "        polygons[i] = gpd.overlay(polygons[i], polygons[i-1], how=\"difference\")\n",
    "        \n",
    "    num_pops = []\n",
    "    for j in pop_data.index:\n",
    "        point = pop_data['geometry'][j]\n",
    "        for k in range(len(polygons)):\n",
    "            if len(polygons[k]) > 0: # to exclude the weirdo (convex hull is not polygon)\n",
    "                if (point.within(polygons[k].iloc[0][\"geometry\"])):\n",
    "                    num_pops.append(pop_data['pop'][j]*weights[k])  \n",
    "    total_pop = sum(num_pops)\n",
    "    for i in range(len(distances)):\n",
    "        polygons[i]['time']=distances[i]\n",
    "        polygons[i]['total_pop']=total_pop\n",
    "        polygons[i]['hospital_icu_beds'] = float(hospital['Adult ICU'])/polygons[i]['total_pop'] # proportion of # of beds over pops in 10 mins\n",
    "        polygons[i]['hospital_vents'] = float(hospital['Total Vent'])/polygons[i]['total_pop'] # proportion of # of beds over pops in 10 mins\n",
    "        polygons[i].crs = { 'init' : 'epsg:4326'}\n",
    "        polygons[i] = polygons[i].to_crs({'init':'epsg:32616'})\n",
    "    print('\\rCatchment for hospital {:4.0f} complete'.format(_thread_id), end=\"\")\n",
    "    return(_thread_id, [ polygon.copy(deep=True) for polygon in polygons ])"
   ]
  },
  {
   "cell_type": "markdown",
   "metadata": {},
   "source": [
    "### measure_acc_par\n",
    "\n",
    "Parallel implementation of accessibility measurement.\n",
    "\n",
    "Args:\n",
    "\n",
    "* hospitals: Geodataframe of hospitals\n",
    "* pop_data: Geodataframe containing population data\n",
    "* network: OSMNX street network\n",
    "* distances: list of distances to calculate catchments for\n",
    "* weights: list of floats to apply to different catchments\n",
    "* num\\_proc: number of processors to use.\n",
    "\n",
    "Returns:\n",
    "\n",
    "* Geodataframe of catchments with accessibility statistics calculated"
   ]
  },
  {
   "cell_type": "code",
   "execution_count": null,
   "metadata": {},
   "outputs": [],
   "source": [
    "def hospital_acc_unpacker(args):\n",
    "    return hospital_measure_acc(*args)\n",
    "\n",
    "def measure_acc_par (hospitals, pop_data, network, distances, weights, num_proc = 4):\n",
    "    catchments = []\n",
    "    for distance in distances:\n",
    "        catchments.append(gpd.GeoDataFrame())\n",
    "    pool = mp.Pool(processes = num_proc)\n",
    "    hospital_list = [ hospitals.iloc[i] for i in range(len(hospitals)) ]\n",
    "    results = pool.map(hospital_acc_unpacker, zip(range(len(hospital_list)), hospital_list, itertools.repeat(pop_data), itertools.repeat(distances), itertools.repeat(weights)))\n",
    "    pool.close()\n",
    "    results.sort()\n",
    "    results = [ r[1] for r in results ]\n",
    "    for i in range(len(results)):\n",
    "        for j in range(len(distances)):\n",
    "            catchments[j] = catchments[j].append(results[i][j], sort=False)\n",
    "    return catchments"
   ]
  },
  {
   "cell_type": "markdown",
   "metadata": {},
   "source": [
    "### overlap_calc\n",
    "\n",
    "Calculates and aggregates accessibility statistics for one catchment on our grid file.\n",
    "\n",
    "Args:\n",
    "\n",
    "* \\_id: thread ID\n",
    "* poly: GeoDataFrame representing a catchment area\n",
    "* grid_file: a GeoDataFrame representing our grids\n",
    "* weight: the weight to applied for a given catchment\n",
    "* service_type: the service we are calculating for: ICU beds or ventilators\n",
    "\n",
    "Returns:\n",
    "\n",
    "* Tuple containing:\n",
    "    * thread ID\n",
    "    * Counter object (dictionary for numbers) with aggregated stats by grid ID number"
   ]
  },
  {
   "cell_type": "code",
   "execution_count": null,
   "metadata": {},
   "outputs": [],
   "source": [
    "from collections import Counter\n",
    "def overlap_calc(_id, poly, grid_file, weight, service_type):\n",
    "    value_dict = Counter()\n",
    "    if type(poly.iloc[0][service_type])!=type(None):           \n",
    "        value = float(poly[service_type])*weight\n",
    "        intersect = gpd.overlay(grid_file, poly, how='intersection')\n",
    "        intersect['overlapped']= intersect.area\n",
    "        intersect['percent'] = intersect['overlapped']/intersect['area']\n",
    "        intersect=intersect[intersect['percent']>=0.5]\n",
    "        intersect_region = intersect['id']\n",
    "        for intersect_id in intersect_region:\n",
    "            try:\n",
    "                value_dict[intersect_id] +=value\n",
    "            except:\n",
    "                value_dict[intersect_id] = value\n",
    "    return(_id, value_dict)\n",
    "\n",
    "def overlap_calc_unpacker(args):\n",
    "    return overlap_calc(*args)"
   ]
  },
  {
   "cell_type": "markdown",
   "metadata": {},
   "source": [
    "### overlapping_function\n",
    "\n",
    "Calculates how all catchment areas overlap with and affect the accessibility of each grid in our grid file.\n",
    "\n",
    "Args:\n",
    "\n",
    "* grid_file: GeoDataFrame of our grid\n",
    "* catchments: GeoDataFrame of our catchments\n",
    "* service_type: the kind of care being provided (ICU beds vs. ventilators)\n",
    "* weights: the weight to apply to each service type\n",
    "* num\\_proc: the number of processors\n",
    "\n",
    "Returns:\n",
    "\n",
    "* Geodataframe - grid\\_file with calculated stats"
   ]
  },
  {
   "cell_type": "code",
   "execution_count": null,
   "metadata": {},
   "outputs": [],
   "source": [
    "def overlapping_function (grid_file, catchments, service_type, weights, num_proc = 4):\n",
    "    grid_file[service_type]=0\n",
    "    pool = mp.Pool(processes = num_proc)\n",
    "    acc_list = []\n",
    "    for i in range(len(catchments)):\n",
    "        acc_list.extend([ catchments[i][j:j+1] for j in range(len(catchments[i])) ])\n",
    "    acc_weights = []\n",
    "    for i in range(len(catchments)):\n",
    "        acc_weights.extend( [weights[i]]*len(catchments[i]) )\n",
    "    results = pool.map(overlap_calc_unpacker, zip(range(len(acc_list)), acc_list, itertools.repeat(grid_file), acc_weights, itertools.repeat(service_type)))\n",
    "    pool.close()\n",
    "    results.sort()\n",
    "    results = [ r[1] for r in results ]\n",
    "    service_values = results[0]\n",
    "    for result in results[1:]:\n",
    "        service_values+=result\n",
    "    for intersect_id, value in service_values.items():\n",
    "        grid_file.loc[grid_file['id']==intersect_id, service_type] += value\n",
    "    return(grid_file)"
   ]
  },
  {
   "cell_type": "markdown",
   "metadata": {},
   "source": [
    "### normalization\n",
    "\n",
    "Normalizes our result (Geodataframe) for a given resource (res)."
   ]
  },
  {
   "cell_type": "code",
   "execution_count": null,
   "metadata": {},
   "outputs": [],
   "source": [
    "def normalization (result, res):\n",
    "    result[res]=(result[res]-min(result[res]))/(max(result[res])-min(result[res]))\n",
    "    return result"
   ]
  },
  {
   "cell_type": "markdown",
   "metadata": {},
   "source": [
    "### file_import\n",
    "\n",
    "Imports all files we need to run our code and pulls the Illinois network from OSMNX if it is not present (will take a while). \n",
    "\n",
    "**NOTE:** even if we calculate accessibility for just Chicago, we want to use the Illinois network (or at least we should not use the Chicago network) because using the Chicago network will result in hospitals near but outside of Chicago having an infinite distance (unreachable because roads do not extend past Chicago).\n",
    "\n",
    "Args:\n",
    "\n",
    "* pop_type: population type, either \"pop\" for general population or \"covid\" for COVID-19 cases\n",
    "* region: the region to use for our hospital and grid file (\"Chicago\" or \"Illinois\")\n",
    "\n",
    "Returns:\n",
    "\n",
    "* G: OSMNX network\n",
    "* hospitals: Geodataframe of hospitals\n",
    "* grid_file: Geodataframe of grids\n",
    "* pop_data: Geodataframe of population"
   ]
  },
  {
   "cell_type": "code",
   "execution_count": null,
   "metadata": {},
   "outputs": [],
   "source": [
    "def file_import (pop_type, region):\n",
    "    if not os.path.exists(\"./Data/{}_Network.graphml\".format(region)):\n",
    "        G = ox.graph_from_place(region, network_type='drive') # pulling the drive network the first time will take a while\n",
    "        ox.save_graphml(G, './Data/{}_Network.graphml'.format(region))\n",
    "    #G = ox.load_graphml('./Data/{}_Network.graphml'.format(region), node_type=str)\n",
    "    G = ox.load_graphml('./Data/Illinois_Network.graphml', node_type=str)\n",
    "    hospitals = gpd.read_file('./Data/HospitalData/{}_Hospital_Info.shp'.format(region))\n",
    "    grid_file = gpd.read_file('./Data/GridFile/{}_Grid.shp'.format(region))\n",
    "    if pop_type==\"pop\":\n",
    "        pop_data = gpd.read_file('./Data/PopData/{}_Tract.shp'.format(region))\n",
    "    if pop_type==\"covid\":\n",
    "        pop_data = gpd.read_file('./Data/PopData/{}_ZIPCODE.shp'.format(region))\n",
    "    return G, hospitals, grid_file, pop_data"
   ]
  },
  {
   "cell_type": "code",
   "execution_count": null,
   "metadata": {},
   "outputs": [],
   "source": [
    "def output_map(output_grid, base_map, hospitals, resource):\n",
    "    ax=output_grid.plot(column=resource, cmap='PuBuGn',figsize=(18,12), legend=True, zorder=1)\n",
    "    # next two lines set bounds for our x- and y-axes because it looks like there's a weird \n",
    "    # point at the bottom left of the map that's messing up our frame (Maja)\n",
    "    ax.set_xlim([314000, 370000])\n",
    "    ax.set_ylim([540000, 616000])\n",
    "    base_map.plot(ax=ax, facecolor=\"none\", edgecolor='gray', lw=0.1)\n",
    "    hospitals.plot(ax=ax, markersize=10, zorder=1, c='blue')"
   ]
  },
  {
   "cell_type": "markdown",
   "metadata": {},
   "source": [
    "### Run the model\n",
    "\n",
    "Below you can customize the input of the model:\n",
    "\n",
    "* Processor - the number of processors to use\n",
    "* Region - the spatial extent of the measure\n",
    "* Population - the population to calculate the measure for\n",
    "* Resource - the hospital resource of interest"
   ]
  },
  {
   "cell_type": "code",
   "execution_count": null,
   "metadata": {},
   "outputs": [],
   "source": [
    "import ipywidgets\n",
    "from IPython.display import display\n",
    "\n",
    "processor_dropdown = ipywidgets.Dropdown( options=[(\"1\", 1), (\"2\", 2), (\"3\", 3), (\"4\", 4)],\n",
    "    value = 4, description = \"Processor: \")\n",
    "\n",
    "place_dropdown = ipywidgets.Dropdown( options=[(\"Chicago\", \"Chicago\"), (\"Illinois\",\"Illinois\")],\n",
    "    value = \"Chicago\", description = \"Region: \")\n",
    "\n",
    "population_dropdown = ipywidgets.Dropdown( options=[(\"Population at Risk\", \"pop\"), (\"COVID-19 Patients\", \"covid\") ],\n",
    "    value = \"pop\", description = \"Population: \")\n",
    "\n",
    "resource_dropdown = ipywidgets.Dropdown( options=[(\"ICU Beds\", \"hospital_icu_beds\"), (\"Ventilators\", \"hospital_vents\") ],\n",
    "    value = \"hospital_icu_beds\", description = \"Resource: \")\n",
    "display(processor_dropdown,place_dropdown,population_dropdown,resource_dropdown)"
   ]
  },
  {
   "cell_type": "code",
   "execution_count": null,
   "metadata": {},
   "outputs": [],
   "source": [
    "%%time\n",
    "# G, hospitals, grid_file, pop_data = file_import (population_dropdown.value, place_dropdown.value)\n",
    "G = network_setting (G)\n",
    "pop_data = pop_centroid(pop_data, population_dropdown.value)\n",
    "hospitals = hospital_setting(hospitals, G)\n",
    "distances=[10,20,30] # distances in travel time\n",
    "weights=[1.0, 0.68, 0.22] # weights where weights[0] is applied to distances[0]\n",
    "# Other weighting options representing different distance decays\n",
    "# weights1, weights2, weights3 = [1.0, 0.42, 0.09], [1.0, 0.75, 0.5], [1.0, 0.5, 0.1]\n",
    "resources = [\"hospital_icu_beds\", \"hospital_vents\"] # resources"
   ]
  },
  {
   "cell_type": "markdown",
   "metadata": {},
   "source": [
    "#### Check OSM Network\n",
    "\n",
    "compare to earlier speed counts"
   ]
  },
  {
   "cell_type": "code",
   "execution_count": null,
   "metadata": {},
   "outputs": [],
   "source": [
    "## Get unique counts for each road network\n",
    "# turn nodes and edges in geodataframes\n",
    "nodes, edges = ox.graph_to_gdfs(G, nodes=True, edges=True)\n",
    "\n",
    "# count\n",
    "print(edges['maxspeed'].value_counts())"
   ]
  },
  {
   "cell_type": "code",
   "execution_count": null,
   "metadata": {},
   "outputs": [],
   "source": [
    "%%time\n",
    "catchments = measure_acc_par(hospitals, pop_data, G, distances, weights, num_proc=processor_dropdown.value)"
   ]
  },
  {
   "cell_type": "code",
   "execution_count": null,
   "metadata": {},
   "outputs": [],
   "source": [
    "%%time\n",
    "for j in range(len(catchments)):\n",
    "    catchments[j] = catchments[j][catchments[j][resource_dropdown.value]!=float('inf')]\n",
    "result=overlapping_function (grid_file, catchments, resource_dropdown.value, weights, num_proc=processor_dropdown.value)"
   ]
  },
  {
   "cell_type": "code",
   "execution_count": null,
   "metadata": {},
   "outputs": [],
   "source": [
    "%%time\n",
    "result.head()"
   ]
  },
  {
   "cell_type": "code",
   "execution_count": null,
   "metadata": {},
   "outputs": [],
   "source": [
    "%%time\n",
    "result = normalization (result, resource_dropdown.value)"
   ]
  },
  {
   "cell_type": "markdown",
   "metadata": {},
   "source": [
    "### Results & Discussion\n",
    "\n",
    "to be written."
   ]
  },
  {
   "cell_type": "code",
   "execution_count": null,
   "metadata": {},
   "outputs": [],
   "source": [
    "%%time\n",
    "hospitals = hospitals.to_crs({'init': 'epsg:26971'})\n",
    "result = result.to_crs({'init': 'epsg:26971'})\n",
    "output_map(result, pop_data, hospitals, resource_dropdown.value)"
   ]
  },
  {
   "cell_type": "markdown",
   "metadata": {},
   "source": [
    "### Conclusion\n",
    "\n",
    "to be written."
   ]
  },
  {
   "cell_type": "markdown",
   "metadata": {},
   "source": [
    "### References\n",
    "\n",
    "Luo, W., & Qi, Y. (2009). An enhanced two-step floating catchment area (E2SFCA) method for measuring spatial accessibility to primary care physicians. Health & place, 15(4), 1100-1107."
   ]
  }
 ],
 "metadata": {
  "kernelspec": {
   "display_name": "Python 3",
   "language": "python",
   "name": "python3"
  },
  "language_info": {
   "codemirror_mode": {
    "name": "ipython",
    "version": 3
   },
   "file_extension": ".py",
   "mimetype": "text/x-python",
   "name": "python",
   "nbconvert_exporter": "python",
   "pygments_lexer": "ipython3",
   "version": "3.7.6"
  }
 },
 "nbformat": 4,
 "nbformat_minor": 2
}
