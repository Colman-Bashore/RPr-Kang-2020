{
 "cells": [
  {
   "cell_type": "markdown",
   "metadata": {},
   "source": [
    "## Dijkstra revision\n",
    "\n",
    "code exploring alternatives with Dijkstra algorithm"
   ]
  },
  {
   "cell_type": "code",
   "execution_count": null,
   "metadata": {},
   "outputs": [],
   "source": [
    "#### import pandas as pd\n",
    "import numpy as np\n",
    "import geopandas as gpd\n",
    "import networkx as nx\n",
    "import osmnx as ox\n",
    "from shapely.geometry import Point, LineString, Polygon\n",
    "import matplotlib.pyplot as plt\n",
    "from tqdm import tqdm\n",
    "import multiprocessing as mp\n",
    "import folium, itertools, os, time, warnings\n",
    "from IPython.display import display, clear_output\n",
    "\n",
    "warnings.filterwarnings(\"ignore\")"
   ]
  },
  {
   "cell_type": "markdown",
   "metadata": {},
   "source": [
    "### Directories"
   ]
  },
  {
   "cell_type": "code",
   "execution_count": null,
   "metadata": {},
   "outputs": [],
   "source": [
    "os.getcwd()"
   ]
  },
  {
   "cell_type": "code",
   "execution_count": null,
   "metadata": {},
   "outputs": [],
   "source": [
    "## Uncomment if filepath abovee is '/home/jovyan/work/RP-Kang2020/procedure/code'\n",
    "os.chdir('../../') \n",
    "\n",
    "os.getcwd()"
   ]
  },
  {
   "cell_type": "markdown",
   "metadata": {},
   "source": [
    "### Load Data"
   ]
  },
  {
   "cell_type": "code",
   "execution_count": null,
   "metadata": {},
   "outputs": [],
   "source": [
    "# street networks\n",
    "if not os.path.exists(\"data/raw/public/Chicago_Network.graphml\"):\n",
    "    G = ox.graph_from_place('Chicago', network_type='drive') # pulling the drive network the first time will take a while\n",
    "    ox.save_graphml(G, 'raw/public/Chicago_Network.graphml')\n",
    "else:\n",
    "    G = ox.load_graphml('raw/public/Chicago_Network.graphml', node_type=str)\n",
    "ox.plot_graph(G)"
   ]
  },
  {
   "cell_type": "code",
   "execution_count": null,
   "metadata": {},
   "outputs": [],
   "source": [
    "hospitals = gpd.read_file('./data/raw/public/HospitalData/Chicago_Hospital_Info.shp')"
   ]
  },
  {
   "cell_type": "markdown",
   "metadata": {},
   "source": [
    "### Process Hospitals + Street Networks"
   ]
  },
  {
   "cell_type": "code",
   "execution_count": null,
   "metadata": {},
   "outputs": [],
   "source": [
    "def network_setting(network):\n",
    "    _nodes_removed = len([n for (n, deg) in network.out_degree() if deg ==0])\n",
    "    network.remove_nodes_from([n for (n, deg) in network.out_degree() if deg ==0])\n",
    "    for component in list(nx.strongly_connected_components(network)):\n",
    "        if len(component)<10:\n",
    "            for node in component:\n",
    "                _nodes_removed+=1\n",
    "                network.remove_node(node)\n",
    "    for u, v, k, data in tqdm(G.edges(data=True, keys=True),position=0):\n",
    "        if 'maxspeed' in data.keys():\n",
    "            speed_type = type(data['maxspeed'])\n",
    "            if (speed_type==str):\n",
    "                # add in try/except blocks to catch maxspeed formats that don't fit Kang et al's cases\n",
    "                try:\n",
    "                    if len(data['maxspeed'].split(','))==2:\n",
    "                        data['maxspeed_fix']=float(data['maxspeed'].split(',')[0])                  \n",
    "                    elif data['maxspeed']=='signals':\n",
    "                        data['maxspeed_fix']=35.0 # drive speed setting as 35 miles\n",
    "                    else:\n",
    "                        data['maxspeed_fix']=float(data['maxspeed'].split()[0])\n",
    "                        # print(\"Warning: the value of\", data['maxspeed'], \"is being converted to 35.0\")   \n",
    "                except:\n",
    "                    data['maxspeed_fix']= 35.0 #miles\n",
    "            else:\n",
    "                try:\n",
    "                    data['maxspeed_fix']=float(data['maxspeed'][0].split()[0])\n",
    "                except:\n",
    "                    data['maxspeed_fix']= 35.0 #miles\n",
    "        else:\n",
    "            data['maxspeed_fix']= 35.0 #miles\n",
    "        # conversion confusion\n",
    "        data['maxspeed_meters'] = data['maxspeed_fix']*26.8223 # convert (mile per hour) to (meters per minute)\n",
    "        # meters / meters per minute === \n",
    "        data['time'] = float(data['length'])/ data['maxspeed_meters']\n",
    "    print(\"Removed {} nodes ({:2.4f}%) from the OSMNX network\".format(_nodes_removed, _nodes_removed/float(network.number_of_nodes())))\n",
    "    print(\"Number of nodes: {}\".format(network.number_of_nodes()))\n",
    "    print(\"Number of edges: {}\".format(network.number_of_edges()))\n",
    "    return(network)\n",
    "\n",
    "def hospital_setting(hospitals, G):\n",
    "    hospitals['nearest_osm']=None\n",
    "    for i in tqdm(hospitals.index, desc=\"Find the nearest osm from hospitals\", position=0):\n",
    "        hospitals['nearest_osm'][i] = ox.get_nearest_node(G, [hospitals['Y'][i], hospitals['X'][i]], method='euclidean') # find the nearest node from hospital location\n",
    "    print ('hospital setting is done')\n",
    "    return(hospitals)"
   ]
  },
  {
   "cell_type": "code",
   "execution_count": null,
   "metadata": {},
   "outputs": [],
   "source": [
    "# clean street network\n",
    "G = network_setting(G)\n",
    "\n",
    "# find nearest node for each hospital\n",
    "hospitals = hospital_setting(hospitals, G)"
   ]
  },
  {
   "cell_type": "code",
   "execution_count": null,
   "metadata": {},
   "outputs": [],
   "source": [
    "distances = [10,20,30]\n",
    "weights = [1,0, 0.68, 0.22]\n",
    "distance_unit = 'time'\n",
    "nearest_osm = hospitals['nearest_osm'][0]"
   ]
  },
  {
   "cell_type": "markdown",
   "metadata": {},
   "source": [
    "### Current Functions (for reference)"
   ]
  },
  {
   "cell_type": "code",
   "execution_count": null,
   "metadata": {},
   "outputs": [],
   "source": [
    "def dijkstra_cca(G, nearest_osm, distance, distance_unit = \"time\"):\n",
    "    # creates subgraph (a list of nodes instead of writing a whole new network graph)\n",
    "    road_network = G.subgraph(nx.single_source_dijkstra_path_length(G, nearest_osm, distance, distance_unit))  \n",
    "    # creates an x and y point for each node\n",
    "    nodes = [Point((data['x'], data['y'])) for node, data in road_network.nodes(data=True)]\n",
    "    # constructs a multipart convex hull out of the subgraph of nodes\n",
    "    polygon = gpd.GeoSeries(nodes).unary_union.convex_hull ## to create convex hull\n",
    "    # turns the polygon into a geodatframme\n",
    "    polygon = gpd.GeoDataFrame(gpd.GeoSeries(polygon)) ## change polygon to geopandas\n",
    "    # renames geometry column\n",
    "    polygon = polygon.rename(columns={0:'geometry'}).set_geometry('geometry')\n",
    "    return polygon.copy(deep=True)"
   ]
  },
  {
   "cell_type": "code",
   "execution_count": null,
   "metadata": {},
   "outputs": [],
   "source": [
    "def hospital_measure_acc (_thread_id, hospital, pop_data, distances, weights):\n",
    "    ##distance weight = 1, 0.68, 0.22\n",
    "    polygons = []\n",
    "    for distance in distances:\n",
    "        # append djikstra catchment calculation (uncomment to use)\n",
    "        polygons.append(dijkstra_cca(G, hospital['nearest_osm'], distance))\n",
    "        ## comment out original approach\n",
    "        # polygons.append(calculate_catchment_area(G, hospital['nearest_osm'],distance))\n",
    "    for i in reversed(range(1, len(distances))):\n",
    "        polygons[i] = gpd.overlay(polygons[i], polygons[i-1], how=\"difference\")\n",
    "        \n",
    "    num_pops = []\n",
    "    for j in pop_data.index:\n",
    "        point = pop_data['geometry'][j]\n",
    "        for k in range(len(polygons)):\n",
    "            if len(polygons[k]) > 0: # to exclude the weirdo (convex hull is not polygon)\n",
    "                if (point.within(polygons[k].iloc[0][\"geometry\"])):\n",
    "                    num_pops.append(pop_data['pop'][j]*weights[k])  \n",
    "    total_pop = sum(num_pops)\n",
    "    for i in range(len(distances)):\n",
    "        polygons[i]['time']=distances[i]\n",
    "        polygons[i]['total_pop']=total_pop\n",
    "        polygons[i]['hospital_icu_beds'] = float(hospital['Adult ICU'])/polygons[i]['total_pop'] # proportion of # of beds over pops in 10 mins\n",
    "        polygons[i]['hospital_vents'] = float(hospital['Total Vent'])/polygons[i]['total_pop'] # proportion of # of beds over pops in 10 mins\n",
    "        polygons[i].crs = { 'init' : 'epsg:4326'}\n",
    "        polygons[i] = polygons[i].to_crs({'init':'epsg:32616'})\n",
    "    print('\\rCatchment for hospital {:4.0f} complete'.format(_thread_id), end=\"\")\n",
    "    return(_thread_id, [ polygon.copy(deep=True) for polygon in polygons ]) "
   ]
  },
  {
   "cell_type": "markdown",
   "metadata": {},
   "source": [
    "### Djikstra revision using dictionary instead of subgraph"
   ]
  },
  {
   "cell_type": "code",
   "execution_count": null,
   "metadata": {},
   "outputs": [],
   "source": [
    "# change the distance value doesn't seem to change the shortest path length\n",
    "nx.single_source_dijkstra_path_length(G,\n",
    "                                      hospitals['nearest_osm'][1], \n",
    "                                      cutoff=10,\n",
    "                                      weight='time') # if we change this, the output values don't seem to change"
   ]
  },
  {
   "cell_type": "code",
   "execution_count": null,
   "metadata": {},
   "outputs": [],
   "source": [
    "len(nx.single_source_dijkstra_path_length(G,\n",
    "                                         hospitals['nearest_osm'][1], \n",
    "                                         cutoff=distances[0]))"
   ]
  },
  {
   "cell_type": "code",
   "execution_count": null,
   "metadata": {},
   "outputs": [],
   "source": [
    "def dijkstra_cca_polygons(G, nearest_osm, distances, distance_unit = \"time\"):\n",
    "    \n",
    "    ## CREATE DICTIONARIES\n",
    "    # create dictionary of nearest nodes\n",
    "    nearest_nodes_30 = nx.single_source_dijkstra_path_length(G, nearest_osm, cutoff=distances[2]) # creating the largest graph from which 10 and 20 minute drive times can be extracted from\n",
    "    \n",
    "    # extract values within 20 minutes drive times\n",
    "    nearest_nodes_20 = dict()\n",
    "    for key, value in nearest_nodes_30.items():\n",
    "        if value <= 20:\n",
    "            nearest_nodes_20[key] = value\n",
    "        \n",
    "    # extract values within 10 minute drive times\n",
    "    nearest_nodes_10 = dict()\n",
    "    for key, value in nearest_nodes_30.items():\n",
    "        if value <= 10:\n",
    "            nearest_nodes_10[key] = value\n",
    "            \n",
    "    ## DERIVE SUBGRAPHS FROM DICTIONARY NODES\n",
    "    # create service areas subgraphs for each\n",
    "    service_area_30 = G.subgraph(nearest_nodes_30)\n",
    "    service_area_20 = G.subgraph(nearest_nodes_20)\n",
    "    service_area_10 = G.subgraph(nearest_nodes_10)\n",
    "\n",
    "    ## TURN SUBGRAPHS INTO GDFS\n",
    "    \n",
    "    # create empty list to store polygons\n",
    "    polygons = []\n",
    "        \n",
    "    # For 30 min drive time\n",
    "    # creates an x and y point for each node\n",
    "    nodes_30 = [Point((data['x'], data['y'])) for node, data in service_area_30.nodes(data=True)]\n",
    "    # constructs a multipart convex hull out of the subgraph of nodes\n",
    "    polygon_30 = gpd.GeoSeries(nodes_30).unary_union.convex_hull ## to create convex hull\n",
    "    # turns the polygon into a geodatframme\n",
    "    polygon_30 = gpd.GeoDataFrame(gpd.GeoSeries(polygon_30)) ## change polygon to geopandas\n",
    "    # renames geometry column\n",
    "    polygon_30 = polygon_30.rename(columns={0:'geometry'}).set_geometry('geometry')\n",
    "    \n",
    "    # For 20 min drive timee\n",
    "    # creates an x and y point for each node\n",
    "    nodes_20 = [Point((data['x'], data['y'])) for node, data in service_area_20.nodes(data=True)]\n",
    "    # constructs a multipart convex hull out of the subgraph of nodes\n",
    "    polygon_20 = gpd.GeoSeries(nodes_20).unary_union.convex_hull ## to create convex hull\n",
    "    # turns the polygon into a geodatframme\n",
    "    polygon_20 = gpd.GeoDataFrame(gpd.GeoSeries(polygon_20)) ## change polygon to geopandas\n",
    "    # renames geometry column\n",
    "    polygon_20 = polygon_20.rename(columns={0:'geometry'}).set_geometry('geometry')\n",
    "    \n",
    "    # For 10 min drive time\n",
    "    # creates an x and y point for each node\n",
    "    nodes_10 = [Point((data['x'], data['y'])) for node, data in service_area_10.nodes(data=True)]\n",
    "    # constructs a multipart convex hull out of the subgraph of nodes\n",
    "    polygon_10 = gpd.GeoSeries(nodes_10).unary_union.convex_hull ## to create convex hull\n",
    "    # turns the polygon into a geodatframme\n",
    "    polygon_10 = gpd.GeoDataFrame(gpd.GeoSeries(polygon_10)) ## change polygon to geopandas\n",
    "    # renames geometry column\n",
    "    polygon_10 = polygon_10.rename(columns={0:'geometry'}).set_geometry('geometry')\n",
    "    \n",
    "    # append each to list\n",
    "    polygons.append(polygon_30)\n",
    "    polygons.append(polygon_20)\n",
    "    polygons.append(polygon_10)\n",
    "\n",
    "    return polygons"
   ]
  },
  {
   "cell_type": "code",
   "execution_count": null,
   "metadata": {},
   "outputs": [],
   "source": [
    "%time\n",
    "dijkstra_cca_polygons(G, nearest_osm, distances)"
   ]
  }
 ],
 "metadata": {
  "kernelspec": {
   "display_name": "Python 3",
   "language": "python",
   "name": "python3"
  },
  "language_info": {
   "codemirror_mode": {
    "name": "ipython",
    "version": 3
   },
   "file_extension": ".py",
   "mimetype": "text/x-python",
   "name": "python",
   "nbconvert_exporter": "python",
   "pygments_lexer": "ipython3",
   "version": "3.7.6"
  }
 },
 "nbformat": 4,
 "nbformat_minor": 4
}
